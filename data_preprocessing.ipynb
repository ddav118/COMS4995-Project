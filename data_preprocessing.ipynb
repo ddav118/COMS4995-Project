{
  "nbformat": 4,
  "nbformat_minor": 0,
  "metadata": {
    "colab": {
      "provenance": []
    },
    "kernelspec": {
      "name": "python3",
      "display_name": "Python 3"
    },
    "language_info": {
      "name": "python"
    }
  },
  "cells": [
    {
      "cell_type": "code",
      "execution_count": null,
      "metadata": {
        "id": "mm7N-1hvfvql"
      },
      "outputs": [],
      "source": [
        "!pip install git+https://github.com/macrosynergy/macrosynergy@develop"
      ]
    },
    {
      "cell_type": "code",
      "source": [
        "import numpy as np\n",
        "import pandas as pd\n",
        "import matplotlib.pyplot as plt\n",
        "import seaborn as sns\n",
        "import os\n",
        "\n",
        "\n",
        "import macrosynergy.management as msm\n",
        "import macrosynergy.panel as msp\n",
        "import macrosynergy.signal as mss\n",
        "import macrosynergy.pnl as msn\n",
        "\n",
        "\n",
        "import os\n",
        "for dirname, _, filenames in os.walk('/kaggle/input'):\n",
        "    for filename in filenames:\n",
        "        print(os.path.join(dirname, filename))\n",
        "\n",
        "import warnings\n",
        "\n",
        "warnings.simplefilter(\"ignore\")"
      ],
      "metadata": {
        "id": "TVbZZirmy_x3"
      },
      "execution_count": 2,
      "outputs": []
    },
    {
      "cell_type": "code",
      "source": [
        "# Cross-sections of interest\n",
        "\n",
        "cids_dm = [\"AUD\", \"CAD\", \"CHF\", \"EUR\", \"GBP\", \"JPY\", \"NOK\", \"NZD\", \"SEK\", \"USD\"]\n",
        "cids_em = [\n",
        "    \"CLP\",\n",
        "    \"COP\",\n",
        "    \"CZK\",\n",
        "    \"HUF\",\n",
        "    \"IDR\",\n",
        "    \"ILS\",\n",
        "    \"INR\",\n",
        "    \"KRW\",\n",
        "    \"MXN\",\n",
        "    \"PLN\",\n",
        "    \"THB\",\n",
        "    \"TRY\",\n",
        "    \"TWD\",\n",
        "    \"ZAR\",\n",
        "]\n",
        "cids = cids_dm + cids_em\n",
        "cids_du = cids_dm + cids_em\n",
        "cids_dux = list(set(cids_du) - set([\"IDR\", \"NZD\"]))\n",
        "cids_xg2 = list(set(cids_dux) - set([\"EUR\", \"USD\"]))"
      ],
      "metadata": {
        "id": "YrHmUht0zExb"
      },
      "execution_count": 3,
      "outputs": []
    },
    {
      "cell_type": "code",
      "source": [
        "# Quantamental categories of interest\n",
        "\n",
        "ecos = [\n",
        "    \"CPIC_SA_P1M1ML12\",\n",
        "    \"CPIC_SJA_P3M3ML3AR\",\n",
        "    \"CPIC_SJA_P6M6ML6AR\",\n",
        "    \"CPIH_SA_P1M1ML12\",\n",
        "    \"CPIH_SJA_P3M3ML3AR\",\n",
        "    \"CPIH_SJA_P6M6ML6AR\",\n",
        "    \"INFTEFF_NSA\",\n",
        "    \"INTRGDP_NSA_P1M1ML12_3MMA\",\n",
        "    \"INTRGDPv5Y_NSA_P1M1ML12_3MMA\",\n",
        "    \"PCREDITGDP_SJA_D1M1ML12\",\n",
        "    \"PCREDITBN_SJA_P1M1ML12\",\n",
        "    \"RGDP_SA_P1Q1QL4_20QMA\",\n",
        "    \"RYLDIRS02Y_NSA\",\n",
        "    \"RYLDIRS05Y_NSA\",\n",
        "]\n",
        "mkts = [\n",
        "    \"DU02YXR_NSA\",\n",
        "    \"DU05YXR_NSA\",\n",
        "    \"DU02YXR_VT10\",\n",
        "    \"DU05YXR_VT10\",\n",
        "    \"EQXR_NSA\",\n",
        "    \"EQXR_VT10\",\n",
        "    \"FXXR_NSA\",\n",
        "    \"FXXR_VT10\",\n",
        "    \"FXCRR_NSA\",\n",
        "    \"FXTARGETED_NSA\",\n",
        "    \"FXUNTRADABLE_NSA\",\n",
        "]\n",
        "\n",
        "xcats = ecos + mkts"
      ],
      "metadata": {
        "id": "3iJb6HnDzJnb"
      },
      "execution_count": 4,
      "outputs": []
    },
    {
      "cell_type": "code",
      "source": [
        "# load the dataset:\n",
        "\n",
        "df = pd.read_csv('JPMaQS_Quantamental_Indicators.csv', index_col=0, parse_dates=['real_date'])\n",
        "\n",
        "scols = [\"cid\", \"xcat\", \"real_date\", \"value\"]  # required columns\n",
        "df = df[scols].copy()\n",
        "display (df.tail(3))\n",
        "df.info()"
      ],
      "metadata": {
        "id": "uoCMHiC_zP_7"
      },
      "execution_count": null,
      "outputs": []
    },
    {
      "cell_type": "code",
      "source": [
        "display(df['xcat'].unique())\n",
        "display(df['cid'].unique())\n",
        "df['ticker'] = df['cid'] + \"_\" + df[\"xcat\"]\n",
        "df.set_index('real_date', inplace=True)\n",
        "df.sort_index(inplace=True)"
      ],
      "metadata": {
        "id": "uOueTUCM0rOj"
      },
      "execution_count": null,
      "outputs": []
    },
    {
      "cell_type": "code",
      "source": [
        "from sklearn.model_selection import TimeSeriesSplit\n",
        "\n",
        "#you can change this to do your different split\n",
        "tss = TimeSeriesSplit(n_splits = 3)"
      ],
      "metadata": {
        "id": "dEf-MESSfVwm"
      },
      "execution_count": 11,
      "outputs": []
    },
    {
      "cell_type": "code",
      "source": [
        "for train_index, test_index in tss.split(df):\n",
        "    pass\n",
        "\n",
        "development_set = df.iloc[train_index]\n",
        "test_set = df.iloc[test_index]"
      ],
      "metadata": {
        "id": "DPeoqJH-03-i"
      },
      "execution_count": 12,
      "outputs": []
    }
  ]
}