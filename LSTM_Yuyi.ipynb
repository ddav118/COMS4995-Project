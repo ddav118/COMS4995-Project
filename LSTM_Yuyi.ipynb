{
  "cells": [
    {
      "cell_type": "code",
      "execution_count": 1,
      "metadata": {
        "id": "mm7N-1hvfvql"
      },
      "outputs": [
        {
          "name": "stdout",
          "output_type": "stream",
          "text": [
            "Collecting git+https://github.com/macrosynergy/macrosynergy@develop\n",
            "  Cloning https://github.com/macrosynergy/macrosynergy (to revision develop) to /private/var/folders/vx/crpb19sx36gc0mgn_x79dpzr0000gn/T/pip-req-build-bqv2gc74\n",
            "  Running command git clone --filter=blob:none --quiet https://github.com/macrosynergy/macrosynergy /private/var/folders/vx/crpb19sx36gc0mgn_x79dpzr0000gn/T/pip-req-build-bqv2gc74\n",
            "  Resolved https://github.com/macrosynergy/macrosynergy to commit 3221421709de07369fd2f1b16b48eea720b2b5ca\n",
            "  Installing build dependencies ... \u001b[?25ldone\n",
            "\u001b[?25h  Getting requirements to build wheel ... \u001b[?25ldone\n",
            "\u001b[?25h  Preparing metadata (pyproject.toml) ... \u001b[?25ldone\n",
            "\u001b[?25hRequirement already satisfied: seaborn>=0.13.0 in /opt/homebrew/lib/python3.11/site-packages (from macrosynergy==0.0.51.dev0+20231205215152.3221421) (0.13.0)\n",
            "Requirement already satisfied: matplotlib>=3.6.0 in /opt/homebrew/lib/python3.11/site-packages (from macrosynergy==0.0.51.dev0+20231205215152.3221421) (3.8.0)\n",
            "Requirement already satisfied: pandas>=1.3.5 in /opt/homebrew/lib/python3.11/site-packages (from macrosynergy==0.0.51.dev0+20231205215152.3221421) (2.1.1)\n",
            "Requirement already satisfied: statsmodels>=0.13.2 in /opt/homebrew/lib/python3.11/site-packages (from macrosynergy==0.0.51.dev0+20231205215152.3221421) (0.14.0)\n",
            "Requirement already satisfied: scikit-learn>=1.0.2 in /opt/homebrew/lib/python3.11/site-packages (from macrosynergy==0.0.51.dev0+20231205215152.3221421) (1.3.1)\n",
            "Requirement already satisfied: numpy>=1.21.6 in /opt/homebrew/lib/python3.11/site-packages (from macrosynergy==0.0.51.dev0+20231205215152.3221421) (1.26.0)\n",
            "Requirement already satisfied: requests>=2.27.1 in /opt/homebrew/lib/python3.11/site-packages (from macrosynergy==0.0.51.dev0+20231205215152.3221421) (2.31.0)\n",
            "Requirement already satisfied: tqdm>=4.62 in /opt/homebrew/lib/python3.11/site-packages (from macrosynergy==0.0.51.dev0+20231205215152.3221421) (4.66.1)\n",
            "Requirement already satisfied: contourpy>=1.0.1 in /opt/homebrew/lib/python3.11/site-packages (from matplotlib>=3.6.0->macrosynergy==0.0.51.dev0+20231205215152.3221421) (1.1.1)\n",
            "Requirement already satisfied: cycler>=0.10 in /opt/homebrew/lib/python3.11/site-packages (from matplotlib>=3.6.0->macrosynergy==0.0.51.dev0+20231205215152.3221421) (0.11.0)\n",
            "Requirement already satisfied: fonttools>=4.22.0 in /opt/homebrew/lib/python3.11/site-packages (from matplotlib>=3.6.0->macrosynergy==0.0.51.dev0+20231205215152.3221421) (4.42.1)\n",
            "Requirement already satisfied: kiwisolver>=1.0.1 in /opt/homebrew/lib/python3.11/site-packages (from matplotlib>=3.6.0->macrosynergy==0.0.51.dev0+20231205215152.3221421) (1.4.5)\n",
            "Requirement already satisfied: packaging>=20.0 in /opt/homebrew/lib/python3.11/site-packages (from matplotlib>=3.6.0->macrosynergy==0.0.51.dev0+20231205215152.3221421) (23.1)\n",
            "Requirement already satisfied: pillow>=6.2.0 in /opt/homebrew/lib/python3.11/site-packages (from matplotlib>=3.6.0->macrosynergy==0.0.51.dev0+20231205215152.3221421) (10.0.1)\n",
            "Requirement already satisfied: pyparsing>=2.3.1 in /opt/homebrew/lib/python3.11/site-packages (from matplotlib>=3.6.0->macrosynergy==0.0.51.dev0+20231205215152.3221421) (3.1.1)\n",
            "Requirement already satisfied: python-dateutil>=2.7 in /opt/homebrew/lib/python3.11/site-packages (from matplotlib>=3.6.0->macrosynergy==0.0.51.dev0+20231205215152.3221421) (2.8.2)\n",
            "Requirement already satisfied: pytz>=2020.1 in /opt/homebrew/lib/python3.11/site-packages (from pandas>=1.3.5->macrosynergy==0.0.51.dev0+20231205215152.3221421) (2023.3.post1)\n",
            "Requirement already satisfied: tzdata>=2022.1 in /opt/homebrew/lib/python3.11/site-packages (from pandas>=1.3.5->macrosynergy==0.0.51.dev0+20231205215152.3221421) (2023.3)\n",
            "Requirement already satisfied: charset-normalizer<4,>=2 in /opt/homebrew/lib/python3.11/site-packages (from requests>=2.27.1->macrosynergy==0.0.51.dev0+20231205215152.3221421) (3.3.2)\n",
            "Requirement already satisfied: idna<4,>=2.5 in /opt/homebrew/lib/python3.11/site-packages (from requests>=2.27.1->macrosynergy==0.0.51.dev0+20231205215152.3221421) (3.4)\n",
            "Requirement already satisfied: urllib3<3,>=1.21.1 in /opt/homebrew/lib/python3.11/site-packages (from requests>=2.27.1->macrosynergy==0.0.51.dev0+20231205215152.3221421) (2.0.7)\n",
            "Requirement already satisfied: certifi>=2017.4.17 in /opt/homebrew/lib/python3.11/site-packages (from requests>=2.27.1->macrosynergy==0.0.51.dev0+20231205215152.3221421) (2023.7.22)\n",
            "Requirement already satisfied: scipy>=1.5.0 in /opt/homebrew/lib/python3.11/site-packages (from scikit-learn>=1.0.2->macrosynergy==0.0.51.dev0+20231205215152.3221421) (1.11.3)\n",
            "Requirement already satisfied: joblib>=1.1.1 in /opt/homebrew/lib/python3.11/site-packages (from scikit-learn>=1.0.2->macrosynergy==0.0.51.dev0+20231205215152.3221421) (1.3.2)\n",
            "Requirement already satisfied: threadpoolctl>=2.0.0 in /opt/homebrew/lib/python3.11/site-packages (from scikit-learn>=1.0.2->macrosynergy==0.0.51.dev0+20231205215152.3221421) (3.2.0)\n",
            "Requirement already satisfied: patsy>=0.5.2 in /opt/homebrew/lib/python3.11/site-packages (from statsmodels>=0.13.2->macrosynergy==0.0.51.dev0+20231205215152.3221421) (0.5.3)\n",
            "Requirement already satisfied: six in /opt/homebrew/lib/python3.11/site-packages (from patsy>=0.5.2->statsmodels>=0.13.2->macrosynergy==0.0.51.dev0+20231205215152.3221421) (1.16.0)\n",
            "Building wheels for collected packages: macrosynergy\n",
            "  Building wheel for macrosynergy (pyproject.toml) ... \u001b[?25ldone\n",
            "\u001b[?25h  Created wheel for macrosynergy: filename=macrosynergy-0.0.51.dev0+20231205215153.3221421-py3-none-any.whl size=217366 sha256=33db0db04d5b913a01b16ebe6d40e57594680fa197c78326ac65f6302e86be1a\n",
            "  Stored in directory: /private/var/folders/vx/crpb19sx36gc0mgn_x79dpzr0000gn/T/pip-ephem-wheel-cache-if4k0ftj/wheels/ba/80/e9/85dfe5d540f3181e471f154d49c7926f4e6b57ce2d481cb5e0\n",
            "Successfully built macrosynergy\n",
            "Installing collected packages: macrosynergy\n",
            "  Attempting uninstall: macrosynergy\n",
            "    Found existing installation: macrosynergy 0.0.51.dev0+20231204185722.d86aacc\n",
            "    Uninstalling macrosynergy-0.0.51.dev0+20231204185722.d86aacc:\n",
            "      Successfully uninstalled macrosynergy-0.0.51.dev0+20231204185722.d86aacc\n",
            "Successfully installed macrosynergy-0.0.51.dev0+20231205215153.3221421\n"
          ]
        }
      ],
      "source": [
        "!pip install git+https://github.com/macrosynergy/macrosynergy@develop"
      ]
    },
    {
      "cell_type": "code",
      "execution_count": 2,
      "metadata": {
        "id": "TVbZZirmy_x3"
      },
      "outputs": [],
      "source": [
        "import numpy as np\n",
        "import pandas as pd\n",
        "import matplotlib.pyplot as plt\n",
        "import seaborn as sns\n",
        "import os\n",
        "\n",
        "\n",
        "import macrosynergy.management as msm\n",
        "import macrosynergy.panel as msp\n",
        "import macrosynergy.signal as mss\n",
        "import macrosynergy.pnl as msn\n",
        "\n",
        "\n",
        "import os\n",
        "for dirname, _, filenames in os.walk('/kaggle/input'):\n",
        "    for filename in filenames:\n",
        "        print(os.path.join(dirname, filename))\n",
        "\n",
        "import warnings\n",
        "\n",
        "warnings.simplefilter(\"ignore\")"
      ]
    },
    {
      "cell_type": "code",
      "execution_count": 3,
      "metadata": {
        "id": "YrHmUht0zExb"
      },
      "outputs": [],
      "source": [
        "# Cross-sections of interest\n",
        "\n",
        "cids_dm = [\"AUD\", \"CAD\", \"CHF\", \"EUR\", \"GBP\", \"JPY\", \"NOK\", \"NZD\", \"SEK\", \"USD\"]\n",
        "cids_em = [\n",
        "    \"CLP\",\n",
        "    \"COP\",\n",
        "    \"CZK\",\n",
        "    \"HUF\",\n",
        "    \"IDR\",\n",
        "    \"ILS\",\n",
        "    \"INR\",\n",
        "    \"KRW\",\n",
        "    \"MXN\",\n",
        "    \"PLN\",\n",
        "    \"THB\",\n",
        "    \"TRY\",\n",
        "    \"TWD\",\n",
        "    \"ZAR\",\n",
        "]\n",
        "cids = cids_dm + cids_em\n",
        "cids_du = cids_dm + cids_em\n",
        "cids_dux = list(set(cids_du) - set([\"IDR\", \"NZD\"]))\n",
        "cids_xg2 = list(set(cids_dux) - set([\"EUR\", \"USD\"]))"
      ]
    },
    {
      "cell_type": "code",
      "execution_count": 4,
      "metadata": {
        "id": "3iJb6HnDzJnb"
      },
      "outputs": [],
      "source": [
        "# Quantamental categories of interest\n",
        "\n",
        "ecos = [\n",
        "    \"CPIC_SA_P1M1ML12\",\n",
        "    \"CPIC_SJA_P3M3ML3AR\",\n",
        "    \"CPIC_SJA_P6M6ML6AR\",\n",
        "    \"CPIH_SA_P1M1ML12\",\n",
        "    \"CPIH_SJA_P3M3ML3AR\",\n",
        "    \"CPIH_SJA_P6M6ML6AR\",\n",
        "    \"INFTEFF_NSA\",\n",
        "    \"INTRGDP_NSA_P1M1ML12_3MMA\",\n",
        "    \"INTRGDPv5Y_NSA_P1M1ML12_3MMA\",\n",
        "    \"PCREDITGDP_SJA_D1M1ML12\",\n",
        "    \"PCREDITBN_SJA_P1M1ML12\",\n",
        "    \"RGDP_SA_P1Q1QL4_20QMA\",\n",
        "    \"RYLDIRS02Y_NSA\",\n",
        "    \"RYLDIRS05Y_NSA\",\n",
        "]\n",
        "mkts = [\n",
        "    \"DU02YXR_NSA\",\n",
        "    \"DU05YXR_NSA\",\n",
        "    \"DU02YXR_VT10\",\n",
        "    \"DU05YXR_VT10\",\n",
        "    \"EQXR_NSA\",\n",
        "    \"EQXR_VT10\",\n",
        "    \"FXXR_NSA\",\n",
        "    \"FXXR_VT10\",\n",
        "    \"FXCRR_NSA\",\n",
        "    \"FXTARGETED_NSA\",\n",
        "    \"FXUNTRADABLE_NSA\",\n",
        "]\n",
        "\n",
        "xcats = ecos + mkts"
      ]
    },
    {
      "cell_type": "code",
      "execution_count": 5,
      "metadata": {
        "id": "uoCMHiC_zP_7"
      },
      "outputs": [
        {
          "data": {
            "text/html": [
              "<div>\n",
              "<style scoped>\n",
              "    .dataframe tbody tr th:only-of-type {\n",
              "        vertical-align: middle;\n",
              "    }\n",
              "\n",
              "    .dataframe tbody tr th {\n",
              "        vertical-align: top;\n",
              "    }\n",
              "\n",
              "    .dataframe thead th {\n",
              "        text-align: right;\n",
              "    }\n",
              "</style>\n",
              "<table border=\"1\" class=\"dataframe\">\n",
              "  <thead>\n",
              "    <tr style=\"text-align: right;\">\n",
              "      <th></th>\n",
              "      <th>cid</th>\n",
              "      <th>xcat</th>\n",
              "      <th>real_date</th>\n",
              "      <th>value</th>\n",
              "    </tr>\n",
              "  </thead>\n",
              "  <tbody>\n",
              "    <tr>\n",
              "      <th>3350268</th>\n",
              "      <td>ZAR</td>\n",
              "      <td>RGDP_SA_P1Q1QL4_20QMA</td>\n",
              "      <td>2023-08-31</td>\n",
              "      <td>0.534737</td>\n",
              "    </tr>\n",
              "    <tr>\n",
              "      <th>3350269</th>\n",
              "      <td>ZAR</td>\n",
              "      <td>RYLDIRS02Y_NSA</td>\n",
              "      <td>2023-08-31</td>\n",
              "      <td>3.230619</td>\n",
              "    </tr>\n",
              "    <tr>\n",
              "      <th>3350270</th>\n",
              "      <td>ZAR</td>\n",
              "      <td>RYLDIRS05Y_NSA</td>\n",
              "      <td>2023-08-31</td>\n",
              "      <td>3.543863</td>\n",
              "    </tr>\n",
              "  </tbody>\n",
              "</table>\n",
              "</div>"
            ],
            "text/plain": [
              "         cid                   xcat  real_date     value\n",
              "3350268  ZAR  RGDP_SA_P1Q1QL4_20QMA 2023-08-31  0.534737\n",
              "3350269  ZAR         RYLDIRS02Y_NSA 2023-08-31  3.230619\n",
              "3350270  ZAR         RYLDIRS05Y_NSA 2023-08-31  3.543863"
            ]
          },
          "metadata": {},
          "output_type": "display_data"
        },
        {
          "name": "stdout",
          "output_type": "stream",
          "text": [
            "<class 'pandas.core.frame.DataFrame'>\n",
            "Index: 3350271 entries, 0 to 3350270\n",
            "Data columns (total 4 columns):\n",
            " #   Column     Dtype         \n",
            "---  ------     -----         \n",
            " 0   cid        object        \n",
            " 1   xcat       object        \n",
            " 2   real_date  datetime64[ns]\n",
            " 3   value      float64       \n",
            "dtypes: datetime64[ns](1), float64(1), object(2)\n",
            "memory usage: 127.8+ MB\n"
          ]
        }
      ],
      "source": [
        "# load the dataset:\n",
        "\n",
        "df = pd.read_csv('JPMaQS_Quantamental_Indicators.csv', index_col=0, parse_dates=['real_date'])\n",
        "\n",
        "scols = [\"cid\", \"xcat\", \"real_date\", \"value\"]  # required columns\n",
        "df = df[scols].copy()\n",
        "display (df.tail(3))\n",
        "df.info()"
      ]
    },
    {
      "cell_type": "code",
      "execution_count": 6,
      "metadata": {
        "id": "uOueTUCM0rOj"
      },
      "outputs": [
        {
          "data": {
            "text/plain": [
              "array(['CPIC_SA_P1M1ML12', 'CPIC_SJA_P3M3ML3AR', 'CPIC_SJA_P6M6ML6AR',\n",
              "       'CPIH_SA_P1M1ML12', 'CPIH_SJA_P3M3ML3AR', 'CPIH_SJA_P6M6ML6AR',\n",
              "       'FXTARGETED_NSA', 'FXUNTRADABLE_NSA', 'FXXR_NSA', 'FXXR_VT10',\n",
              "       'INFTEFF_NSA', 'INTRGDP_NSA_P1M1ML12_3MMA',\n",
              "       'INTRGDPv5Y_NSA_P1M1ML12_3MMA', 'PCREDITBN_SJA_P1M1ML12',\n",
              "       'PCREDITGDP_SJA_D1M1ML12', 'RGDP_SA_P1Q1QL4_20QMA',\n",
              "       'RYLDIRS02Y_NSA', 'RYLDIRS05Y_NSA', 'DU02YXR_NSA', 'DU02YXR_VT10',\n",
              "       'DU05YXR_NSA', 'DU05YXR_VT10', 'EQXR_NSA', 'EQXR_VT10',\n",
              "       'FXCRR_NSA'], dtype=object)"
            ]
          },
          "metadata": {},
          "output_type": "display_data"
        },
        {
          "data": {
            "text/plain": [
              "array(['AUD', 'CAD', 'CHF', 'CLP', 'COP', 'CZK', 'EUR', 'GBP', 'HUF',\n",
              "       'IDR', 'ILS', 'INR', 'JPY', 'KRW', 'MXN', 'NOK', 'NZD', 'PLN',\n",
              "       'SEK', 'THB', 'TRY', 'TWD', 'USD', 'ZAR'], dtype=object)"
            ]
          },
          "metadata": {},
          "output_type": "display_data"
        }
      ],
      "source": [
        "display(df['xcat'].unique())\n",
        "display(df['cid'].unique())\n",
        "df['ticker'] = df['cid'] + \"_\" + df[\"xcat\"]\n",
        "df.set_index('real_date', inplace=True)\n",
        "df.sort_index(inplace=True)"
      ]
    },
    {
      "cell_type": "code",
      "execution_count": 7,
      "metadata": {},
      "outputs": [],
      "source": [
        "# LSTM particular implementations\n",
        "\n",
        "from sklearn.model_selection import TimeSeriesSplit\n",
        "from keras import Sequential\n",
        "from keras.layers import LSTM\n",
        "from keras.layers import Dense\n",
        "from keras_tuner import RandomSearch\n",
        "from keras.metrics import mean_squared_error\n",
        "\n",
        "# only consider the USD dollars for now\n",
        "# only did USD for now, can be extended to other currencies\n",
        "df_USD = df[df[\"cid\"] == 'USD'] \n",
        "\n",
        "# make the xcat features into columns\n",
        "df_USD = df_USD.pivot_table(index='real_date', columns='xcat', values='value', aggfunc='first')\n",
        "\n",
        "df_USD = df_USD.reset_index()\n",
        "\n",
        "# deals with missing data\n",
        "df_USD = df_USD.dropna()\n",
        "\n",
        "# split into training and test data\n",
        "tss = TimeSeriesSplit(n_splits = 4)\n",
        "\n",
        "for train_index, test_index in tss.split(df_USD):\n",
        "    pass\n",
        "\n",
        "train_set = df_USD.iloc[train_index]\n",
        "test_set = df_USD.iloc[test_index]\n",
        "\n",
        "tss = TimeSeriesSplit(n_splits = 3)\n",
        "\n",
        "for train_index, test_index in tss.split(train_set):\n",
        "    pass\n",
        "\n",
        "development_set = train_set.iloc[train_index]\n",
        "val_set = df_USD.iloc[test_index]\n",
        "\n",
        "\n"
      ]
    },
    {
      "cell_type": "code",
      "execution_count": 8,
      "metadata": {},
      "outputs": [],
      "source": [
        "dev_y = np.array(development_set['DU05YXR_VT10'])\n",
        "dev_y = dev_y.reshape(dev_y.shape[0],1)\n",
        "\n",
        "dev_X = np.array(development_set.drop(columns=['DU05YXR_VT10', 'real_date']))\n",
        "dev_X = dev_X.reshape(dev_X.shape[0],dev_X.shape[1],1)\n",
        "\n",
        "test_y = np.array(test_set['DU05YXR_VT10'])\n",
        "test_y = test_y.reshape(test_y.shape[0],1)\n",
        "\n",
        "test_X = np.array(test_set.drop(columns=['DU05YXR_VT10','real_date']))\n",
        "test_X = test_X.reshape(test_X.shape[0],test_X.shape[1],1)\n",
        "\n",
        "val_y = np.array(val_set['DU05YXR_VT10'])\n",
        "val_y = val_y.reshape(val_set.shape[0],1)\n",
        "\n",
        "val_X = np.array(val_set.drop(columns=['DU05YXR_VT10','real_date']))\n",
        "val_X = val_X.reshape(val_X.shape[0],val_X.shape[1],1)"
      ]
    },
    {
      "cell_type": "code",
      "execution_count": 9,
      "metadata": {},
      "outputs": [],
      "source": [
        "# Hyperparameter training part\n",
        "\n",
        "def build_model(hp):\n",
        "  model = Sequential()\n",
        "\n",
        "  model = Sequential()\n",
        "\n",
        "  model.add(LSTM(hp.Choice('units', [64, 128, 256]), activation='relu', input_shape=(dev_X.shape[1], 1), return_sequences=True))\n",
        "  model.add(LSTM(hp.Choice('units', [8, 16, 32]), activation='relu', return_sequences=False))\n",
        "  model.add(Dense(1))\n",
        "  model.compile(hp.Choice('optimizer', [\"adam\", \"RMSProp\", \"SGD\"]),loss='mse', metrics=[mean_squared_error])\n",
        "  return model"
      ]
    },
    {
      "cell_type": "code",
      "execution_count": 10,
      "metadata": {},
      "outputs": [],
      "source": [
        "tuner = RandomSearch(\n",
        "    build_model,\n",
        "    objective='val_loss',\n",
        "    max_trials=5)"
      ]
    },
    {
      "cell_type": "code",
      "execution_count": 11,
      "metadata": {},
      "outputs": [
        {
          "name": "stdout",
          "output_type": "stream",
          "text": [
            "Trial 5 Complete [00h 00m 26s]\n",
            "val_loss: 0.15687018632888794\n",
            "\n",
            "Best val_loss So Far: 0.13124750554561615\n",
            "Total elapsed time: 00h 02m 51s\n"
          ]
        }
      ],
      "source": [
        "tuner.search(dev_X, dev_y, epochs=10, validation_data=(val_X, val_y))\n",
        "best_model = tuner.get_best_models()[0]"
      ]
    },
    {
      "cell_type": "code",
      "execution_count": 12,
      "metadata": {},
      "outputs": [
        {
          "name": "stdout",
          "output_type": "stream",
          "text": [
            "Epoch 1/10\n",
            "116/116 [==============================] - 6s 50ms/step - loss: 0.1066 - mean_squared_error: 0.1066 - val_loss: 0.1680 - val_mean_squared_error: 0.1680\n",
            "Epoch 2/10\n",
            "116/116 [==============================] - 6s 54ms/step - loss: 0.0973 - mean_squared_error: 0.0973 - val_loss: 0.1052 - val_mean_squared_error: 0.1052\n",
            "Epoch 3/10\n",
            "116/116 [==============================] - 6s 54ms/step - loss: 0.0884 - mean_squared_error: 0.0884 - val_loss: 0.1082 - val_mean_squared_error: 0.1082\n",
            "Epoch 4/10\n",
            "116/116 [==============================] - 6s 51ms/step - loss: 0.0817 - mean_squared_error: 0.0817 - val_loss: 0.0933 - val_mean_squared_error: 0.0933\n",
            "Epoch 5/10\n",
            "116/116 [==============================] - 6s 53ms/step - loss: 0.0865 - mean_squared_error: 0.0865 - val_loss: 0.1148 - val_mean_squared_error: 0.1148\n",
            "Epoch 6/10\n",
            "116/116 [==============================] - 6s 53ms/step - loss: 0.0779 - mean_squared_error: 0.0779 - val_loss: 0.1062 - val_mean_squared_error: 0.1062\n",
            "Epoch 7/10\n",
            "116/116 [==============================] - 6s 53ms/step - loss: 0.0712 - mean_squared_error: 0.0712 - val_loss: 0.0722 - val_mean_squared_error: 0.0722\n",
            "Epoch 8/10\n",
            "116/116 [==============================] - 5s 47ms/step - loss: 0.0707 - mean_squared_error: 0.0707 - val_loss: 0.0793 - val_mean_squared_error: 0.0793\n",
            "Epoch 9/10\n",
            "116/116 [==============================] - 5s 47ms/step - loss: 0.0682 - mean_squared_error: 0.0682 - val_loss: 0.0668 - val_mean_squared_error: 0.0668\n",
            "Epoch 10/10\n",
            "116/116 [==============================] - 5s 43ms/step - loss: 0.0722 - mean_squared_error: 0.0722 - val_loss: 0.0889 - val_mean_squared_error: 0.0889\n",
            "39/39 [==============================] - 1s 16ms/step - loss: 0.1591 - mean_squared_error: 0.1591\n",
            "39/39 [==============================] - 1s 16ms/step\n"
          ]
        }
      ],
      "source": [
        "# Retrain on the optimal hyperparameter and evaluate on the test set\n",
        "\n",
        "history = best_model.fit(dev_X, dev_y, epochs=10, validation_data=(val_X, val_y))\n",
        "records = best_model.evaluate(test_X, test_y)\n",
        "results = best_model.predict(test_X)"
      ]
    },
    {
      "cell_type": "code",
      "execution_count": 21,
      "metadata": {},
      "outputs": [
        {
          "name": "stdout",
          "output_type": "stream",
          "text": [
            "The following are the results of my best model on the test set\n",
            "---------------------------------------------------------------\n",
            "The mean square error is 0.15913094580173492\n",
            "The r2 score is: 0.7146414690964394\n",
            "The mean absolute error is: 0.2625401886576063\n"
          ]
        }
      ],
      "source": [
        "from sklearn.metrics import r2_score\n",
        "from sklearn.metrics import mean_absolute_error\n",
        "\n",
        "print(\"The following are the results of my best model on the test set\")\n",
        "print(\"---------------------------------------------------------------\")\n",
        "print(\"The mean square error is \" + str(records[1]))\n",
        "print(\"The r2 score is: \" + str(r2_score(test_y, results)))\n",
        "print(\"The mean absolute error is: \" + str(mean_absolute_error(test_y, results)))"
      ]
    },
    {
      "cell_type": "code",
      "execution_count": 24,
      "metadata": {},
      "outputs": [
        {
          "data": {
            "image/png": "[encoded data removed]",
            "text/plain": [
              "<Figure size 640x480 with 1 Axes>"
            ]
          },
          "metadata": {},
          "output_type": "display_data"
        }
      ],
      "source": [
        "plt.title(\"The performance of LSTM model on predicting DU05YXR_VT10\")\n",
        "plt.plot(test_set['real_date'], test_set['DU05YXR_VT10'])\n",
        "plt.plot(test_set['real_date'], results)\n",
        "plt.legend(['Ground Truth', 'Prediction'])\n",
        "plt.xlabel('Date')\n",
        "plt.ylabel('DU05YXR_VT10')\n",
        "plt.show()"
      ]
    }
  ],
  "metadata": {
    "colab": {
      "provenance": []
    },
    "kernelspec": {
      "display_name": "Python 3",
      "name": "python3"
    },
    "language_info": {
      "codemirror_mode": {
        "name": "ipython",
        "version": 3
      },
      "file_extension": ".py",
      "mimetype": "text/x-python",
      "name": "python",
      "nbconvert_exporter": "python",
      "pygments_lexer": "ipython3",
      "version": "3.11.6"
    }
  },
  "nbformat": 4,
  "nbformat_minor": 0
}
