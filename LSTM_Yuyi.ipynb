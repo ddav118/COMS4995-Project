{
  "cells": [
    {
      "cell_type": "code",
      "execution_count": 6,
      "metadata": {
        "id": "mm7N-1hvfvql"
      },
      "outputs": [
        {
          "name": "stdout",
          "output_type": "stream",
          "text": [
            "Collecting git+https://github.com/macrosynergy/macrosynergy@develop\n",
            "  Cloning https://github.com/macrosynergy/macrosynergy (to revision develop) to /private/var/folders/vx/crpb19sx36gc0mgn_x79dpzr0000gn/T/pip-req-build-bblulgne\n",
            "  Running command git clone --filter=blob:none --quiet https://github.com/macrosynergy/macrosynergy /private/var/folders/vx/crpb19sx36gc0mgn_x79dpzr0000gn/T/pip-req-build-bblulgne\n",
            "  Resolved https://github.com/macrosynergy/macrosynergy to commit 2f284af8abe8d19af078f870b80a33eefaaa9160\n",
            "  Installing build dependencies ... \u001b[?25ldone\n",
            "\u001b[?25h  Getting requirements to build wheel ... \u001b[?25ldone\n",
            "\u001b[?25h  Preparing metadata (pyproject.toml) ... \u001b[?25ldone\n",
            "\u001b[?25hRequirement already satisfied: seaborn>=0.13.0 in /opt/homebrew/lib/python3.11/site-packages (from macrosynergy==0.0.51.dev0+20231207210945.2f284af) (0.13.0)\n",
            "Requirement already satisfied: matplotlib>=3.6.0 in /opt/homebrew/lib/python3.11/site-packages (from macrosynergy==0.0.51.dev0+20231207210945.2f284af) (3.8.0)\n",
            "Requirement already satisfied: pandas>=1.3.5 in /opt/homebrew/lib/python3.11/site-packages (from macrosynergy==0.0.51.dev0+20231207210945.2f284af) (2.1.1)\n",
            "Requirement already satisfied: statsmodels>=0.13.2 in /opt/homebrew/lib/python3.11/site-packages (from macrosynergy==0.0.51.dev0+20231207210945.2f284af) (0.14.0)\n",
            "Requirement already satisfied: scikit-learn>=1.0.2 in /opt/homebrew/lib/python3.11/site-packages (from macrosynergy==0.0.51.dev0+20231207210945.2f284af) (1.3.1)\n",
            "Requirement already satisfied: numpy>=1.21.6 in /opt/homebrew/lib/python3.11/site-packages (from macrosynergy==0.0.51.dev0+20231207210945.2f284af) (1.26.0)\n",
            "Requirement already satisfied: requests>=2.27.1 in /opt/homebrew/lib/python3.11/site-packages (from macrosynergy==0.0.51.dev0+20231207210945.2f284af) (2.31.0)\n",
            "Requirement already satisfied: tqdm>=4.62 in /opt/homebrew/lib/python3.11/site-packages (from macrosynergy==0.0.51.dev0+20231207210945.2f284af) (4.66.1)\n",
            "Requirement already satisfied: contourpy>=1.0.1 in /opt/homebrew/lib/python3.11/site-packages (from matplotlib>=3.6.0->macrosynergy==0.0.51.dev0+20231207210945.2f284af) (1.1.1)\n",
            "Requirement already satisfied: cycler>=0.10 in /opt/homebrew/lib/python3.11/site-packages (from matplotlib>=3.6.0->macrosynergy==0.0.51.dev0+20231207210945.2f284af) (0.11.0)\n",
            "Requirement already satisfied: fonttools>=4.22.0 in /opt/homebrew/lib/python3.11/site-packages (from matplotlib>=3.6.0->macrosynergy==0.0.51.dev0+20231207210945.2f284af) (4.42.1)\n",
            "Requirement already satisfied: kiwisolver>=1.0.1 in /opt/homebrew/lib/python3.11/site-packages (from matplotlib>=3.6.0->macrosynergy==0.0.51.dev0+20231207210945.2f284af) (1.4.5)\n",
            "Requirement already satisfied: packaging>=20.0 in /opt/homebrew/lib/python3.11/site-packages (from matplotlib>=3.6.0->macrosynergy==0.0.51.dev0+20231207210945.2f284af) (23.1)\n",
            "Requirement already satisfied: pillow>=6.2.0 in /opt/homebrew/lib/python3.11/site-packages (from matplotlib>=3.6.0->macrosynergy==0.0.51.dev0+20231207210945.2f284af) (10.0.1)\n",
            "Requirement already satisfied: pyparsing>=2.3.1 in /opt/homebrew/lib/python3.11/site-packages (from matplotlib>=3.6.0->macrosynergy==0.0.51.dev0+20231207210945.2f284af) (3.1.1)\n",
            "Requirement already satisfied: python-dateutil>=2.7 in /opt/homebrew/lib/python3.11/site-packages (from matplotlib>=3.6.0->macrosynergy==0.0.51.dev0+20231207210945.2f284af) (2.8.2)\n",
            "Requirement already satisfied: pytz>=2020.1 in /opt/homebrew/lib/python3.11/site-packages (from pandas>=1.3.5->macrosynergy==0.0.51.dev0+20231207210945.2f284af) (2023.3.post1)\n",
            "Requirement already satisfied: tzdata>=2022.1 in /opt/homebrew/lib/python3.11/site-packages (from pandas>=1.3.5->macrosynergy==0.0.51.dev0+20231207210945.2f284af) (2023.3)\n",
            "Requirement already satisfied: charset-normalizer<4,>=2 in /opt/homebrew/lib/python3.11/site-packages (from requests>=2.27.1->macrosynergy==0.0.51.dev0+20231207210945.2f284af) (3.3.2)\n",
            "Requirement already satisfied: idna<4,>=2.5 in /opt/homebrew/lib/python3.11/site-packages (from requests>=2.27.1->macrosynergy==0.0.51.dev0+20231207210945.2f284af) (3.4)\n",
            "Requirement already satisfied: urllib3<3,>=1.21.1 in /opt/homebrew/lib/python3.11/site-packages (from requests>=2.27.1->macrosynergy==0.0.51.dev0+20231207210945.2f284af) (2.0.7)\n",
            "Requirement already satisfied: certifi>=2017.4.17 in /opt/homebrew/lib/python3.11/site-packages (from requests>=2.27.1->macrosynergy==0.0.51.dev0+20231207210945.2f284af) (2023.7.22)\n",
            "Requirement already satisfied: scipy>=1.5.0 in /opt/homebrew/lib/python3.11/site-packages (from scikit-learn>=1.0.2->macrosynergy==0.0.51.dev0+20231207210945.2f284af) (1.11.3)\n",
            "Requirement already satisfied: joblib>=1.1.1 in /opt/homebrew/lib/python3.11/site-packages (from scikit-learn>=1.0.2->macrosynergy==0.0.51.dev0+20231207210945.2f284af) (1.3.2)\n",
            "Requirement already satisfied: threadpoolctl>=2.0.0 in /opt/homebrew/lib/python3.11/site-packages (from scikit-learn>=1.0.2->macrosynergy==0.0.51.dev0+20231207210945.2f284af) (3.2.0)\n",
            "Requirement already satisfied: patsy>=0.5.2 in /opt/homebrew/lib/python3.11/site-packages (from statsmodels>=0.13.2->macrosynergy==0.0.51.dev0+20231207210945.2f284af) (0.5.3)\n",
            "Requirement already satisfied: six in /opt/homebrew/lib/python3.11/site-packages (from patsy>=0.5.2->statsmodels>=0.13.2->macrosynergy==0.0.51.dev0+20231207210945.2f284af) (1.16.0)\n",
            "Building wheels for collected packages: macrosynergy\n",
            "  Building wheel for macrosynergy (pyproject.toml) ... \u001b[?25ldone\n",
            "\u001b[?25h  Created wheel for macrosynergy: filename=macrosynergy-0.0.51.dev0+20231207210946.2f284af-py3-none-any.whl size=217426 sha256=339f30f0d711dc4deb6c7c53b71d9f14a893a32da25769f5fdd1bb42aedbb680\n",
            "  Stored in directory: /private/var/folders/vx/crpb19sx36gc0mgn_x79dpzr0000gn/T/pip-ephem-wheel-cache-cofbt2uo/wheels/ba/80/e9/85dfe5d540f3181e471f154d49c7926f4e6b57ce2d481cb5e0\n",
            "Successfully built macrosynergy\n",
            "Installing collected packages: macrosynergy\n",
            "  Attempting uninstall: macrosynergy\n",
            "    Found existing installation: macrosynergy 0.0.51.dev0+20231207210812.2f284af\n",
            "    Uninstalling macrosynergy-0.0.51.dev0+20231207210812.2f284af:\n",
            "      Successfully uninstalled macrosynergy-0.0.51.dev0+20231207210812.2f284af\n",
            "Successfully installed macrosynergy-0.0.51.dev0+20231207210946.2f284af\n"
          ]
        }
      ],
      "source": [
        "!pip install git+https://github.com/macrosynergy/macrosynergy@develop"
      ]
    },
    {
      "cell_type": "code",
      "execution_count": 7,
      "metadata": {
        "id": "TVbZZirmy_x3"
      },
      "outputs": [],
      "source": [
        "import numpy as np\n",
        "import pandas as pd\n",
        "import matplotlib.pyplot as plt\n",
        "import seaborn as sns\n",
        "import os\n",
        "\n",
        "\n",
        "import macrosynergy.management as msm\n",
        "import macrosynergy.panel as msp\n",
        "import macrosynergy.signal as mss\n",
        "import macrosynergy.pnl as msn\n",
        "\n",
        "\n",
        "import os\n",
        "for dirname, _, filenames in os.walk('/kaggle/input'):\n",
        "    for filename in filenames:\n",
        "        print(os.path.join(dirname, filename))\n",
        "\n",
        "import warnings\n",
        "\n",
        "warnings.simplefilter(\"ignore\")"
      ]
    },
    {
      "cell_type": "code",
      "execution_count": 8,
      "metadata": {
        "id": "YrHmUht0zExb"
      },
      "outputs": [],
      "source": [
        "# Cross-sections of interest\n",
        "\n",
        "cids_dm = [\"AUD\", \"CAD\", \"CHF\", \"EUR\", \"GBP\", \"JPY\", \"NOK\", \"NZD\", \"SEK\", \"USD\"]\n",
        "cids_em = [\n",
        "    \"CLP\",\n",
        "    \"COP\",\n",
        "    \"CZK\",\n",
        "    \"HUF\",\n",
        "    \"IDR\",\n",
        "    \"ILS\",\n",
        "    \"INR\",\n",
        "    \"KRW\",\n",
        "    \"MXN\",\n",
        "    \"PLN\",\n",
        "    \"THB\",\n",
        "    \"TRY\",\n",
        "    \"TWD\",\n",
        "    \"ZAR\",\n",
        "]\n",
        "cids = cids_dm + cids_em\n",
        "cids_du = cids_dm + cids_em\n",
        "cids_dux = list(set(cids_du) - set([\"IDR\", \"NZD\"]))\n",
        "cids_xg2 = list(set(cids_dux) - set([\"EUR\", \"USD\"]))"
      ]
    },
    {
      "cell_type": "code",
      "execution_count": 9,
      "metadata": {
        "id": "3iJb6HnDzJnb"
      },
      "outputs": [],
      "source": [
        "# Quantamental categories of interest\n",
        "\n",
        "ecos = [\n",
        "    \"CPIC_SA_P1M1ML12\",\n",
        "    \"CPIC_SJA_P3M3ML3AR\",\n",
        "    \"CPIC_SJA_P6M6ML6AR\",\n",
        "    \"CPIH_SA_P1M1ML12\",\n",
        "    \"CPIH_SJA_P3M3ML3AR\",\n",
        "    \"CPIH_SJA_P6M6ML6AR\",\n",
        "    \"INFTEFF_NSA\",\n",
        "    \"INTRGDP_NSA_P1M1ML12_3MMA\",\n",
        "    \"INTRGDPv5Y_NSA_P1M1ML12_3MMA\",\n",
        "    \"PCREDITGDP_SJA_D1M1ML12\",\n",
        "    \"PCREDITBN_SJA_P1M1ML12\",\n",
        "    \"RGDP_SA_P1Q1QL4_20QMA\",\n",
        "    \"RYLDIRS02Y_NSA\",\n",
        "    \"RYLDIRS05Y_NSA\",\n",
        "]\n",
        "mkts = [\n",
        "    \"DU02YXR_NSA\",\n",
        "    \"DU05YXR_NSA\",\n",
        "    \"DU02YXR_VT10\",\n",
        "    \"DU05YXR_VT10\",\n",
        "    \"EQXR_NSA\",\n",
        "    \"EQXR_VT10\",\n",
        "    \"FXXR_NSA\",\n",
        "    \"FXXR_VT10\",\n",
        "    \"FXCRR_NSA\",\n",
        "    \"FXTARGETED_NSA\",\n",
        "    \"FXUNTRADABLE_NSA\",\n",
        "]\n",
        "\n",
        "xcats = ecos + mkts"
      ]
    },
    {
      "cell_type": "code",
      "execution_count": 21,
      "metadata": {
        "id": "uoCMHiC_zP_7"
      },
      "outputs": [
        {
          "data": {
            "text/html": [
              "<div>\n",
              "<style scoped>\n",
              "    .dataframe tbody tr th:only-of-type {\n",
              "        vertical-align: middle;\n",
              "    }\n",
              "\n",
              "    .dataframe tbody tr th {\n",
              "        vertical-align: top;\n",
              "    }\n",
              "\n",
              "    .dataframe thead th {\n",
              "        text-align: right;\n",
              "    }\n",
              "</style>\n",
              "<table border=\"1\" class=\"dataframe\">\n",
              "  <thead>\n",
              "    <tr style=\"text-align: right;\">\n",
              "      <th></th>\n",
              "      <th>cid</th>\n",
              "      <th>xcat</th>\n",
              "      <th>real_date</th>\n",
              "      <th>value</th>\n",
              "    </tr>\n",
              "  </thead>\n",
              "  <tbody>\n",
              "    <tr>\n",
              "      <th>3350268</th>\n",
              "      <td>ZAR</td>\n",
              "      <td>RGDP_SA_P1Q1QL4_20QMA</td>\n",
              "      <td>2023-08-31</td>\n",
              "      <td>0.534737</td>\n",
              "    </tr>\n",
              "    <tr>\n",
              "      <th>3350269</th>\n",
              "      <td>ZAR</td>\n",
              "      <td>RYLDIRS02Y_NSA</td>\n",
              "      <td>2023-08-31</td>\n",
              "      <td>3.230619</td>\n",
              "    </tr>\n",
              "    <tr>\n",
              "      <th>3350270</th>\n",
              "      <td>ZAR</td>\n",
              "      <td>RYLDIRS05Y_NSA</td>\n",
              "      <td>2023-08-31</td>\n",
              "      <td>3.543863</td>\n",
              "    </tr>\n",
              "  </tbody>\n",
              "</table>\n",
              "</div>"
            ],
            "text/plain": [
              "         cid                   xcat  real_date     value\n",
              "3350268  ZAR  RGDP_SA_P1Q1QL4_20QMA 2023-08-31  0.534737\n",
              "3350269  ZAR         RYLDIRS02Y_NSA 2023-08-31  3.230619\n",
              "3350270  ZAR         RYLDIRS05Y_NSA 2023-08-31  3.543863"
            ]
          },
          "metadata": {},
          "output_type": "display_data"
        },
        {
          "name": "stdout",
          "output_type": "stream",
          "text": [
            "<class 'pandas.core.frame.DataFrame'>\n",
            "Index: 3350271 entries, 0 to 3350270\n",
            "Data columns (total 4 columns):\n",
            " #   Column     Dtype         \n",
            "---  ------     -----         \n",
            " 0   cid        object        \n",
            " 1   xcat       object        \n",
            " 2   real_date  datetime64[ns]\n",
            " 3   value      float64       \n",
            "dtypes: datetime64[ns](1), float64(1), object(2)\n",
            "memory usage: 127.8+ MB\n"
          ]
        }
      ],
      "source": [
        "# load the dataset:\n",
        "\n",
        "df = pd.read_csv('JPMaQS_Quantamental_Indicators.csv', index_col=0, parse_dates=['real_date'])\n",
        "\n",
        "scols = [\"cid\", \"xcat\", \"real_date\", \"value\"]  # required columns\n",
        "df = df[scols].copy()\n",
        "display (df.tail(3))\n",
        "df.info()"
      ]
    },
    {
      "cell_type": "code",
      "execution_count": 22,
      "metadata": {
        "id": "uOueTUCM0rOj"
      },
      "outputs": [
        {
          "data": {
            "text/plain": [
              "array(['CPIC_SA_P1M1ML12', 'CPIC_SJA_P3M3ML3AR', 'CPIC_SJA_P6M6ML6AR',\n",
              "       'CPIH_SA_P1M1ML12', 'CPIH_SJA_P3M3ML3AR', 'CPIH_SJA_P6M6ML6AR',\n",
              "       'FXTARGETED_NSA', 'FXUNTRADABLE_NSA', 'FXXR_NSA', 'FXXR_VT10',\n",
              "       'INFTEFF_NSA', 'INTRGDP_NSA_P1M1ML12_3MMA',\n",
              "       'INTRGDPv5Y_NSA_P1M1ML12_3MMA', 'PCREDITBN_SJA_P1M1ML12',\n",
              "       'PCREDITGDP_SJA_D1M1ML12', 'RGDP_SA_P1Q1QL4_20QMA',\n",
              "       'RYLDIRS02Y_NSA', 'RYLDIRS05Y_NSA', 'DU02YXR_NSA', 'DU02YXR_VT10',\n",
              "       'DU05YXR_NSA', 'DU05YXR_VT10', 'EQXR_NSA', 'EQXR_VT10',\n",
              "       'FXCRR_NSA'], dtype=object)"
            ]
          },
          "metadata": {},
          "output_type": "display_data"
        },
        {
          "data": {
            "text/plain": [
              "array(['AUD', 'CAD', 'CHF', 'CLP', 'COP', 'CZK', 'EUR', 'GBP', 'HUF',\n",
              "       'IDR', 'ILS', 'INR', 'JPY', 'KRW', 'MXN', 'NOK', 'NZD', 'PLN',\n",
              "       'SEK', 'THB', 'TRY', 'TWD', 'USD', 'ZAR'], dtype=object)"
            ]
          },
          "metadata": {},
          "output_type": "display_data"
        }
      ],
      "source": [
        "display(df['xcat'].unique())\n",
        "display(df['cid'].unique())\n",
        "df['ticker'] = df['cid'] + \"_\" + df[\"xcat\"]\n",
        "df.set_index('real_date', inplace=True)\n",
        "df.sort_index(inplace=True)"
      ]
    },
    {
      "cell_type": "code",
      "execution_count": 23,
      "metadata": {},
      "outputs": [],
      "source": [
        "# LSTM particular implementations\n",
        "\n",
        "from sklearn.model_selection import TimeSeriesSplit\n",
        "from keras import Sequential\n",
        "from keras.layers import LSTM\n",
        "from keras.layers import Dense\n",
        "from keras_tuner import RandomSearch\n",
        "from keras.metrics import mean_squared_error\n",
        "from sklearn.metrics import r2_score\n",
        "from sklearn.metrics import mean_absolute_error"
      ]
    },
    {
      "cell_type": "code",
      "execution_count": 24,
      "metadata": {},
      "outputs": [],
      "source": [
        "def build_model(hp):\n",
        "  model = Sequential()\n",
        "\n",
        "  model = Sequential()\n",
        "\n",
        "  model.add(LSTM(hp.Choice('units', [64, 128, 256]), activation='relu', input_shape=(dev_X.shape[1], 1), return_sequences=True))\n",
        "  model.add(LSTM(hp.Choice('units', [8, 16, 32]), activation='relu', return_sequences=False))\n",
        "  model.add(Dense(1))\n",
        "  model.compile(hp.Choice('optimizer', [\"adam\", \"RMSProp\", \"SGD\"]),loss='mse', metrics=[mean_squared_error])\n",
        "  return model"
      ]
    },
    {
      "cell_type": "code",
      "execution_count": 25,
      "metadata": {},
      "outputs": [
        {
          "name": "stdout",
          "output_type": "stream",
          "text": [
            "Reloading Tuner from ./untitled_project/tuner0.json\n",
            "Epoch 1/50\n",
            "35/35 [==============================] - 3s 56ms/step - loss: 0.6294 - mean_squared_error: 0.6294 - val_loss: 0.1736 - val_mean_squared_error: 0.1736\n",
            "Epoch 2/50\n",
            "35/35 [==============================] - 2s 52ms/step - loss: 0.4393 - mean_squared_error: 0.4393 - val_loss: 0.2543 - val_mean_squared_error: 0.2543\n",
            "Epoch 3/50\n",
            "35/35 [==============================] - 2s 53ms/step - loss: 0.3563 - mean_squared_error: 0.3563 - val_loss: 0.2078 - val_mean_squared_error: 0.2078\n",
            "Epoch 4/50\n",
            "35/35 [==============================] - 2s 57ms/step - loss: 0.3636 - mean_squared_error: 0.3636 - val_loss: 0.2812 - val_mean_squared_error: 0.2812\n",
            "Epoch 5/50\n",
            "35/35 [==============================] - 2s 54ms/step - loss: 0.3092 - mean_squared_error: 0.3092 - val_loss: 0.1666 - val_mean_squared_error: 0.1666\n",
            "Epoch 6/50\n",
            "35/35 [==============================] - 2s 57ms/step - loss: 0.2856 - mean_squared_error: 0.2856 - val_loss: 0.1667 - val_mean_squared_error: 0.1667\n",
            "Epoch 7/50\n",
            "35/35 [==============================] - 2s 55ms/step - loss: 0.2775 - mean_squared_error: 0.2775 - val_loss: 0.3021 - val_mean_squared_error: 0.3021\n",
            "Epoch 8/50\n",
            "35/35 [==============================] - 2s 63ms/step - loss: 0.2636 - mean_squared_error: 0.2636 - val_loss: 0.1420 - val_mean_squared_error: 0.1420\n",
            "Epoch 9/50\n",
            "35/35 [==============================] - 2s 55ms/step - loss: 0.2584 - mean_squared_error: 0.2584 - val_loss: 0.1645 - val_mean_squared_error: 0.1645\n",
            "Epoch 10/50\n",
            "35/35 [==============================] - 2s 59ms/step - loss: 0.2326 - mean_squared_error: 0.2326 - val_loss: 0.1066 - val_mean_squared_error: 0.1066\n",
            "Epoch 11/50\n",
            "35/35 [==============================] - 2s 59ms/step - loss: 0.2326 - mean_squared_error: 0.2326 - val_loss: 0.3691 - val_mean_squared_error: 0.3691\n",
            "Epoch 12/50\n",
            " 7/35 [=====>........................] - ETA: 1s - loss: 0.1879 - mean_squared_error: 0.1879"
          ]
        },
        {
          "ename": "KeyboardInterrupt",
          "evalue": "",
          "output_type": "error",
          "traceback": [
            "\u001b[0;31m---------------------------------------------------------------------------\u001b[0m",
            "\u001b[0;31mKeyboardInterrupt\u001b[0m                         Traceback (most recent call last)",
            "\u001b[1;32m/Users/yuyitang/Desktop/COMS4995-Project/LSTM_Yuyi.ipynb Cell 9\u001b[0m line \u001b[0;36m5\n\u001b[1;32m     <a href='vscode-notebook-cell:/Users/yuyitang/Desktop/COMS4995-Project/LSTM_Yuyi.ipynb#W6sZmlsZQ%3D%3D?line=53'>54</a>\u001b[0m best_model \u001b[39m=\u001b[39m tuner\u001b[39m.\u001b[39mget_best_models()[\u001b[39m0\u001b[39m]\n\u001b[1;32m     <a href='vscode-notebook-cell:/Users/yuyitang/Desktop/COMS4995-Project/LSTM_Yuyi.ipynb#W6sZmlsZQ%3D%3D?line=55'>56</a>\u001b[0m \u001b[39m# Retrain on the optimal hyperparameter and evaluate on the test set\u001b[39;00m\n\u001b[0;32m---> <a href='vscode-notebook-cell:/Users/yuyitang/Desktop/COMS4995-Project/LSTM_Yuyi.ipynb#W6sZmlsZQ%3D%3D?line=57'>58</a>\u001b[0m history \u001b[39m=\u001b[39m best_model\u001b[39m.\u001b[39;49mfit(dev_X, dev_y, epochs\u001b[39m=\u001b[39;49m\u001b[39m50\u001b[39;49m, validation_data\u001b[39m=\u001b[39;49m(val_X, val_y))\n\u001b[1;32m     <a href='vscode-notebook-cell:/Users/yuyitang/Desktop/COMS4995-Project/LSTM_Yuyi.ipynb#W6sZmlsZQ%3D%3D?line=58'>59</a>\u001b[0m records \u001b[39m=\u001b[39m best_model\u001b[39m.\u001b[39mevaluate(test_X, test_y)\n\u001b[1;32m     <a href='vscode-notebook-cell:/Users/yuyitang/Desktop/COMS4995-Project/LSTM_Yuyi.ipynb#W6sZmlsZQ%3D%3D?line=59'>60</a>\u001b[0m results \u001b[39m=\u001b[39m best_model\u001b[39m.\u001b[39mpredict(test_X)\n",
            "File \u001b[0;32m/opt/homebrew/lib/python3.11/site-packages/keras/src/utils/traceback_utils.py:65\u001b[0m, in \u001b[0;36mfilter_traceback.<locals>.error_handler\u001b[0;34m(*args, **kwargs)\u001b[0m\n\u001b[1;32m     63\u001b[0m filtered_tb \u001b[39m=\u001b[39m \u001b[39mNone\u001b[39;00m\n\u001b[1;32m     64\u001b[0m \u001b[39mtry\u001b[39;00m:\n\u001b[0;32m---> 65\u001b[0m     \u001b[39mreturn\u001b[39;00m fn(\u001b[39m*\u001b[39;49margs, \u001b[39m*\u001b[39;49m\u001b[39m*\u001b[39;49mkwargs)\n\u001b[1;32m     66\u001b[0m \u001b[39mexcept\u001b[39;00m \u001b[39mException\u001b[39;00m \u001b[39mas\u001b[39;00m e:\n\u001b[1;32m     67\u001b[0m     filtered_tb \u001b[39m=\u001b[39m _process_traceback_frames(e\u001b[39m.\u001b[39m__traceback__)\n",
            "File \u001b[0;32m/opt/homebrew/lib/python3.11/site-packages/keras/src/engine/training.py:1783\u001b[0m, in \u001b[0;36mModel.fit\u001b[0;34m(self, x, y, batch_size, epochs, verbose, callbacks, validation_split, validation_data, shuffle, class_weight, sample_weight, initial_epoch, steps_per_epoch, validation_steps, validation_batch_size, validation_freq, max_queue_size, workers, use_multiprocessing)\u001b[0m\n\u001b[1;32m   1775\u001b[0m \u001b[39mwith\u001b[39;00m tf\u001b[39m.\u001b[39mprofiler\u001b[39m.\u001b[39mexperimental\u001b[39m.\u001b[39mTrace(\n\u001b[1;32m   1776\u001b[0m     \u001b[39m\"\u001b[39m\u001b[39mtrain\u001b[39m\u001b[39m\"\u001b[39m,\n\u001b[1;32m   1777\u001b[0m     epoch_num\u001b[39m=\u001b[39mepoch,\n\u001b[0;32m   (...)\u001b[0m\n\u001b[1;32m   1780\u001b[0m     _r\u001b[39m=\u001b[39m\u001b[39m1\u001b[39m,\n\u001b[1;32m   1781\u001b[0m ):\n\u001b[1;32m   1782\u001b[0m     callbacks\u001b[39m.\u001b[39mon_train_batch_begin(step)\n\u001b[0;32m-> 1783\u001b[0m     tmp_logs \u001b[39m=\u001b[39m \u001b[39mself\u001b[39;49m\u001b[39m.\u001b[39;49mtrain_function(iterator)\n\u001b[1;32m   1784\u001b[0m     \u001b[39mif\u001b[39;00m data_handler\u001b[39m.\u001b[39mshould_sync:\n\u001b[1;32m   1785\u001b[0m         context\u001b[39m.\u001b[39masync_wait()\n",
            "File \u001b[0;32m/opt/homebrew/lib/python3.11/site-packages/tensorflow/python/util/traceback_utils.py:150\u001b[0m, in \u001b[0;36mfilter_traceback.<locals>.error_handler\u001b[0;34m(*args, **kwargs)\u001b[0m\n\u001b[1;32m    148\u001b[0m filtered_tb \u001b[39m=\u001b[39m \u001b[39mNone\u001b[39;00m\n\u001b[1;32m    149\u001b[0m \u001b[39mtry\u001b[39;00m:\n\u001b[0;32m--> 150\u001b[0m   \u001b[39mreturn\u001b[39;00m fn(\u001b[39m*\u001b[39;49margs, \u001b[39m*\u001b[39;49m\u001b[39m*\u001b[39;49mkwargs)\n\u001b[1;32m    151\u001b[0m \u001b[39mexcept\u001b[39;00m \u001b[39mException\u001b[39;00m \u001b[39mas\u001b[39;00m e:\n\u001b[1;32m    152\u001b[0m   filtered_tb \u001b[39m=\u001b[39m _process_traceback_frames(e\u001b[39m.\u001b[39m__traceback__)\n",
            "File \u001b[0;32m/opt/homebrew/lib/python3.11/site-packages/tensorflow/python/eager/polymorphic_function/polymorphic_function.py:831\u001b[0m, in \u001b[0;36mFunction.__call__\u001b[0;34m(self, *args, **kwds)\u001b[0m\n\u001b[1;32m    828\u001b[0m compiler \u001b[39m=\u001b[39m \u001b[39m\"\u001b[39m\u001b[39mxla\u001b[39m\u001b[39m\"\u001b[39m \u001b[39mif\u001b[39;00m \u001b[39mself\u001b[39m\u001b[39m.\u001b[39m_jit_compile \u001b[39melse\u001b[39;00m \u001b[39m\"\u001b[39m\u001b[39mnonXla\u001b[39m\u001b[39m\"\u001b[39m\n\u001b[1;32m    830\u001b[0m \u001b[39mwith\u001b[39;00m OptionalXlaContext(\u001b[39mself\u001b[39m\u001b[39m.\u001b[39m_jit_compile):\n\u001b[0;32m--> 831\u001b[0m   result \u001b[39m=\u001b[39m \u001b[39mself\u001b[39;49m\u001b[39m.\u001b[39;49m_call(\u001b[39m*\u001b[39;49margs, \u001b[39m*\u001b[39;49m\u001b[39m*\u001b[39;49mkwds)\n\u001b[1;32m    833\u001b[0m new_tracing_count \u001b[39m=\u001b[39m \u001b[39mself\u001b[39m\u001b[39m.\u001b[39mexperimental_get_tracing_count()\n\u001b[1;32m    834\u001b[0m without_tracing \u001b[39m=\u001b[39m (tracing_count \u001b[39m==\u001b[39m new_tracing_count)\n",
            "File \u001b[0;32m/opt/homebrew/lib/python3.11/site-packages/tensorflow/python/eager/polymorphic_function/polymorphic_function.py:867\u001b[0m, in \u001b[0;36mFunction._call\u001b[0;34m(self, *args, **kwds)\u001b[0m\n\u001b[1;32m    864\u001b[0m   \u001b[39mself\u001b[39m\u001b[39m.\u001b[39m_lock\u001b[39m.\u001b[39mrelease()\n\u001b[1;32m    865\u001b[0m   \u001b[39m# In this case we have created variables on the first call, so we run the\u001b[39;00m\n\u001b[1;32m    866\u001b[0m   \u001b[39m# defunned version which is guaranteed to never create variables.\u001b[39;00m\n\u001b[0;32m--> 867\u001b[0m   \u001b[39mreturn\u001b[39;00m tracing_compilation\u001b[39m.\u001b[39;49mcall_function(\n\u001b[1;32m    868\u001b[0m       args, kwds, \u001b[39mself\u001b[39;49m\u001b[39m.\u001b[39;49m_no_variable_creation_config\n\u001b[1;32m    869\u001b[0m   )\n\u001b[1;32m    870\u001b[0m \u001b[39melif\u001b[39;00m \u001b[39mself\u001b[39m\u001b[39m.\u001b[39m_variable_creation_config \u001b[39mis\u001b[39;00m \u001b[39mnot\u001b[39;00m \u001b[39mNone\u001b[39;00m:\n\u001b[1;32m    871\u001b[0m   \u001b[39m# Release the lock early so that multiple threads can perform the call\u001b[39;00m\n\u001b[1;32m    872\u001b[0m   \u001b[39m# in parallel.\u001b[39;00m\n\u001b[1;32m    873\u001b[0m   \u001b[39mself\u001b[39m\u001b[39m.\u001b[39m_lock\u001b[39m.\u001b[39mrelease()\n",
            "File \u001b[0;32m/opt/homebrew/lib/python3.11/site-packages/tensorflow/python/eager/polymorphic_function/tracing_compilation.py:139\u001b[0m, in \u001b[0;36mcall_function\u001b[0;34m(args, kwargs, tracing_options)\u001b[0m\n\u001b[1;32m    137\u001b[0m bound_args \u001b[39m=\u001b[39m function\u001b[39m.\u001b[39mfunction_type\u001b[39m.\u001b[39mbind(\u001b[39m*\u001b[39margs, \u001b[39m*\u001b[39m\u001b[39m*\u001b[39mkwargs)\n\u001b[1;32m    138\u001b[0m flat_inputs \u001b[39m=\u001b[39m function\u001b[39m.\u001b[39mfunction_type\u001b[39m.\u001b[39munpack_inputs(bound_args)\n\u001b[0;32m--> 139\u001b[0m \u001b[39mreturn\u001b[39;00m function\u001b[39m.\u001b[39;49m_call_flat(  \u001b[39m# pylint: disable=protected-access\u001b[39;49;00m\n\u001b[1;32m    140\u001b[0m     flat_inputs, captured_inputs\u001b[39m=\u001b[39;49mfunction\u001b[39m.\u001b[39;49mcaptured_inputs\n\u001b[1;32m    141\u001b[0m )\n",
            "File \u001b[0;32m/opt/homebrew/lib/python3.11/site-packages/tensorflow/python/eager/polymorphic_function/concrete_function.py:1264\u001b[0m, in \u001b[0;36mConcreteFunction._call_flat\u001b[0;34m(self, tensor_inputs, captured_inputs)\u001b[0m\n\u001b[1;32m   1260\u001b[0m possible_gradient_type \u001b[39m=\u001b[39m gradients_util\u001b[39m.\u001b[39mPossibleTapeGradientTypes(args)\n\u001b[1;32m   1261\u001b[0m \u001b[39mif\u001b[39;00m (possible_gradient_type \u001b[39m==\u001b[39m gradients_util\u001b[39m.\u001b[39mPOSSIBLE_GRADIENT_TYPES_NONE\n\u001b[1;32m   1262\u001b[0m     \u001b[39mand\u001b[39;00m executing_eagerly):\n\u001b[1;32m   1263\u001b[0m   \u001b[39m# No tape is watching; skip to running the function.\u001b[39;00m\n\u001b[0;32m-> 1264\u001b[0m   \u001b[39mreturn\u001b[39;00m \u001b[39mself\u001b[39;49m\u001b[39m.\u001b[39;49m_inference_function\u001b[39m.\u001b[39;49mflat_call(args)\n\u001b[1;32m   1265\u001b[0m forward_backward \u001b[39m=\u001b[39m \u001b[39mself\u001b[39m\u001b[39m.\u001b[39m_select_forward_and_backward_functions(\n\u001b[1;32m   1266\u001b[0m     args,\n\u001b[1;32m   1267\u001b[0m     possible_gradient_type,\n\u001b[1;32m   1268\u001b[0m     executing_eagerly)\n\u001b[1;32m   1269\u001b[0m forward_function, args_with_tangents \u001b[39m=\u001b[39m forward_backward\u001b[39m.\u001b[39mforward()\n",
            "File \u001b[0;32m/opt/homebrew/lib/python3.11/site-packages/tensorflow/python/eager/polymorphic_function/atomic_function.py:217\u001b[0m, in \u001b[0;36mAtomicFunction.flat_call\u001b[0;34m(self, args)\u001b[0m\n\u001b[1;32m    215\u001b[0m \u001b[39mdef\u001b[39;00m \u001b[39mflat_call\u001b[39m(\u001b[39mself\u001b[39m, args: Sequence[core\u001b[39m.\u001b[39mTensor]) \u001b[39m-\u001b[39m\u001b[39m>\u001b[39m Any:\n\u001b[1;32m    216\u001b[0m \u001b[39m  \u001b[39m\u001b[39m\"\"\"Calls with tensor inputs and returns the structured output.\"\"\"\u001b[39;00m\n\u001b[0;32m--> 217\u001b[0m   flat_outputs \u001b[39m=\u001b[39m \u001b[39mself\u001b[39;49m(\u001b[39m*\u001b[39;49margs)\n\u001b[1;32m    218\u001b[0m   \u001b[39mreturn\u001b[39;00m \u001b[39mself\u001b[39m\u001b[39m.\u001b[39mfunction_type\u001b[39m.\u001b[39mpack_output(flat_outputs)\n",
            "File \u001b[0;32m/opt/homebrew/lib/python3.11/site-packages/tensorflow/python/eager/polymorphic_function/atomic_function.py:252\u001b[0m, in \u001b[0;36mAtomicFunction.__call__\u001b[0;34m(self, *args)\u001b[0m\n\u001b[1;32m    250\u001b[0m \u001b[39mwith\u001b[39;00m record\u001b[39m.\u001b[39mstop_recording():\n\u001b[1;32m    251\u001b[0m   \u001b[39mif\u001b[39;00m \u001b[39mself\u001b[39m\u001b[39m.\u001b[39m_bound_context\u001b[39m.\u001b[39mexecuting_eagerly():\n\u001b[0;32m--> 252\u001b[0m     outputs \u001b[39m=\u001b[39m \u001b[39mself\u001b[39;49m\u001b[39m.\u001b[39;49m_bound_context\u001b[39m.\u001b[39;49mcall_function(\n\u001b[1;32m    253\u001b[0m         \u001b[39mself\u001b[39;49m\u001b[39m.\u001b[39;49mname,\n\u001b[1;32m    254\u001b[0m         \u001b[39mlist\u001b[39;49m(args),\n\u001b[1;32m    255\u001b[0m         \u001b[39mlen\u001b[39;49m(\u001b[39mself\u001b[39;49m\u001b[39m.\u001b[39;49mfunction_type\u001b[39m.\u001b[39;49mflat_outputs),\n\u001b[1;32m    256\u001b[0m     )\n\u001b[1;32m    257\u001b[0m   \u001b[39melse\u001b[39;00m:\n\u001b[1;32m    258\u001b[0m     outputs \u001b[39m=\u001b[39m make_call_op_in_graph(\n\u001b[1;32m    259\u001b[0m         \u001b[39mself\u001b[39m,\n\u001b[1;32m    260\u001b[0m         \u001b[39mlist\u001b[39m(args),\n\u001b[1;32m    261\u001b[0m         \u001b[39mself\u001b[39m\u001b[39m.\u001b[39m_bound_context\u001b[39m.\u001b[39mfunction_call_options\u001b[39m.\u001b[39mas_attrs(),\n\u001b[1;32m    262\u001b[0m     )\n",
            "File \u001b[0;32m/opt/homebrew/lib/python3.11/site-packages/tensorflow/python/eager/context.py:1479\u001b[0m, in \u001b[0;36mContext.call_function\u001b[0;34m(self, name, tensor_inputs, num_outputs)\u001b[0m\n\u001b[1;32m   1477\u001b[0m cancellation_context \u001b[39m=\u001b[39m cancellation\u001b[39m.\u001b[39mcontext()\n\u001b[1;32m   1478\u001b[0m \u001b[39mif\u001b[39;00m cancellation_context \u001b[39mis\u001b[39;00m \u001b[39mNone\u001b[39;00m:\n\u001b[0;32m-> 1479\u001b[0m   outputs \u001b[39m=\u001b[39m execute\u001b[39m.\u001b[39;49mexecute(\n\u001b[1;32m   1480\u001b[0m       name\u001b[39m.\u001b[39;49mdecode(\u001b[39m\"\u001b[39;49m\u001b[39mutf-8\u001b[39;49m\u001b[39m\"\u001b[39;49m),\n\u001b[1;32m   1481\u001b[0m       num_outputs\u001b[39m=\u001b[39;49mnum_outputs,\n\u001b[1;32m   1482\u001b[0m       inputs\u001b[39m=\u001b[39;49mtensor_inputs,\n\u001b[1;32m   1483\u001b[0m       attrs\u001b[39m=\u001b[39;49mattrs,\n\u001b[1;32m   1484\u001b[0m       ctx\u001b[39m=\u001b[39;49m\u001b[39mself\u001b[39;49m,\n\u001b[1;32m   1485\u001b[0m   )\n\u001b[1;32m   1486\u001b[0m \u001b[39melse\u001b[39;00m:\n\u001b[1;32m   1487\u001b[0m   outputs \u001b[39m=\u001b[39m execute\u001b[39m.\u001b[39mexecute_with_cancellation(\n\u001b[1;32m   1488\u001b[0m       name\u001b[39m.\u001b[39mdecode(\u001b[39m\"\u001b[39m\u001b[39mutf-8\u001b[39m\u001b[39m\"\u001b[39m),\n\u001b[1;32m   1489\u001b[0m       num_outputs\u001b[39m=\u001b[39mnum_outputs,\n\u001b[0;32m   (...)\u001b[0m\n\u001b[1;32m   1493\u001b[0m       cancellation_manager\u001b[39m=\u001b[39mcancellation_context,\n\u001b[1;32m   1494\u001b[0m   )\n",
            "File \u001b[0;32m/opt/homebrew/lib/python3.11/site-packages/tensorflow/python/eager/execute.py:60\u001b[0m, in \u001b[0;36mquick_execute\u001b[0;34m(op_name, num_outputs, inputs, attrs, ctx, name)\u001b[0m\n\u001b[1;32m     53\u001b[0m   \u001b[39m# Convert any objects of type core_types.Tensor to Tensor.\u001b[39;00m\n\u001b[1;32m     54\u001b[0m   inputs \u001b[39m=\u001b[39m [\n\u001b[1;32m     55\u001b[0m       tensor_conversion_registry\u001b[39m.\u001b[39mconvert(t)\n\u001b[1;32m     56\u001b[0m       \u001b[39mif\u001b[39;00m \u001b[39misinstance\u001b[39m(t, core_types\u001b[39m.\u001b[39mTensor)\n\u001b[1;32m     57\u001b[0m       \u001b[39melse\u001b[39;00m t\n\u001b[1;32m     58\u001b[0m       \u001b[39mfor\u001b[39;00m t \u001b[39min\u001b[39;00m inputs\n\u001b[1;32m     59\u001b[0m   ]\n\u001b[0;32m---> 60\u001b[0m   tensors \u001b[39m=\u001b[39m pywrap_tfe\u001b[39m.\u001b[39;49mTFE_Py_Execute(ctx\u001b[39m.\u001b[39;49m_handle, device_name, op_name,\n\u001b[1;32m     61\u001b[0m                                       inputs, attrs, num_outputs)\n\u001b[1;32m     62\u001b[0m \u001b[39mexcept\u001b[39;00m core\u001b[39m.\u001b[39m_NotOkStatusException \u001b[39mas\u001b[39;00m e:\n\u001b[1;32m     63\u001b[0m   \u001b[39mif\u001b[39;00m name \u001b[39mis\u001b[39;00m \u001b[39mnot\u001b[39;00m \u001b[39mNone\u001b[39;00m:\n",
            "\u001b[0;31mKeyboardInterrupt\u001b[0m: "
          ]
        }
      ],
      "source": [
        "\n",
        "\n",
        "# only consider the USD dollars for now\n",
        "# only did USD for now, can be extended to other currencies\n",
        "df_USD = df[df[\"cid\"] == 'USD'] \n",
        "\n",
        "# make the xcat features into columns\n",
        "df_USD = df_USD.pivot_table(index='real_date', columns='xcat', values='value', aggfunc='first')\n",
        "\n",
        "df_USD = df_USD.reset_index()\n",
        "\n",
        "# deals with missing data\n",
        "df_USD = df_USD.dropna()\n",
        "\n",
        "index = int(len(df_USD) * 0.9)\n",
        "X_dev, X_test = df_USD.iloc[:index], df_USD.iloc[index:]\n",
        "\n",
        "# split into training and test data\n",
        "tss = TimeSeriesSplit(n_splits = 4)\n",
        "\n",
        "\n",
        "test_y = np.array(X_test['DU05YXR_VT10'])\n",
        "test_y = test_y.reshape(test_y.shape[0],1)\n",
        "\n",
        "test_X = np.array(X_test.drop(columns=['DU05YXR_VT10','real_date']))\n",
        "test_X = test_X.reshape(test_X.shape[0],test_X.shape[1],1)\n",
        "\n",
        "for train_index, test_index in tss.split(X_dev):\n",
        "\n",
        "    development_set = df_USD.iloc[train_index]\n",
        "    val_set = df_USD.iloc[test_index]\n",
        "\n",
        "\n",
        "    dev_y = np.array(development_set['DU05YXR_VT10'])\n",
        "    dev_y = dev_y.reshape(dev_y.shape[0],1)\n",
        "\n",
        "    dev_X = np.array(development_set.drop(columns=['DU05YXR_VT10', 'real_date']))\n",
        "    dev_X = dev_X.reshape(dev_X.shape[0],dev_X.shape[1],1)\n",
        "\n",
        "\n",
        "    val_y = np.array(val_set['DU05YXR_VT10'])\n",
        "    val_y = val_y.reshape(val_set.shape[0],1)\n",
        "\n",
        "    val_X = np.array(val_set.drop(columns=['DU05YXR_VT10','real_date']))\n",
        "    val_X = val_X.reshape(val_X.shape[0],val_X.shape[1],1)\n",
        "\n",
        "\n",
        "\n",
        "    # Hyperparameter training part\n",
        "    tuner = RandomSearch(\n",
        "        build_model,\n",
        "        objective='val_loss',\n",
        "        max_trials=5)\n",
        "    \n",
        "    tuner.search(dev_X, dev_y, epochs=50, validation_data=(val_X, val_y))\n",
        "    best_model = tuner.get_best_models()[0]\n",
        "    \n",
        "    # Retrain on the optimal hyperparameter and evaluate on the test set\n",
        "\n",
        "    history = best_model.fit(dev_X, dev_y, epochs=50, validation_data=(val_X, val_y))\n",
        "    records = best_model.evaluate(test_X, test_y)\n",
        "    results = best_model.predict(test_X)\n",
        "\n",
        "\n",
        "\n",
        "    print(\"The following are the results of my best model on the test set\")\n",
        "    print(\"---------------------------------------------------------------\")\n",
        "    print(\"The mean square error is \" + str(records[1]))\n",
        "    print(\"The r2 score is: \" + str(r2_score(test_y, results)))\n",
        "    print(\"The mean absolute error is: \" + str(mean_absolute_error(test_y, results)))\n",
        "\n",
        "    \n",
        "    plt.title(\"The performance of LSTM model on predicting DU05YXR_VT10\")\n",
        "    plt.plot(X_test['real_date'], X_test['DU05YXR_VT10'])\n",
        "    plt.plot(X_test['real_date'], results)\n",
        "    plt.legend(['Ground Truth', 'Prediction'])\n",
        "    plt.xlabel('Date')\n",
        "    plt.ylabel('DU05YXR_VT10')\n",
        "    plt.show()\n",
        "\n",
        "        \n",
        "\n",
        "\n",
        "        \n",
        "\n",
        "\n",
        "\n",
        "\n",
        "\n"
      ]
    }
  ],
  "metadata": {
    "colab": {
      "provenance": []
    },
    "kernelspec": {
      "display_name": "Python 3",
      "name": "python3"
    },
    "language_info": {
      "codemirror_mode": {
        "name": "ipython",
        "version": 3
      },
      "file_extension": ".py",
      "mimetype": "text/x-python",
      "name": "python",
      "nbconvert_exporter": "python",
      "pygments_lexer": "ipython3",
      "version": "3.11.6"
    }
  },
  "nbformat": 4,
  "nbformat_minor": 0
}
